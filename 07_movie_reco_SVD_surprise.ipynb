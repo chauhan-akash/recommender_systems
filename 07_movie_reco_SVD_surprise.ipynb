{
 "cells": [
  {
   "cell_type": "markdown",
   "metadata": {},
   "source": [
    "## Movie recommendation using matrix factorization - SURPRISE python package\n",
    "\n",
    "### I. Theory behind matrix factorization methodology\n",
    "\n",
    "**Dimensionality reduction using matrix factorization**\n",
    "\n",
    "Our rating dataset can be represnted as a matrix of rows N and columns M, where N is the number of users and M is the number of movies. This matrix is filled with the ratings of users for each movie.\n",
    "\n",
    "The idea behind matrix factorization of our rating table is to reduce its dimensionality. Right now we have thousands of movie's ratings for each user. We want to reduce this to fewer dimensions (say F) for each user which will still explain most of the ratings. This allow us to discover the most important latent features underlying the interactions between users and movies. This methodology helps in scaling the algorithm to big datasets and performs better than usual item based or user based CBF.\n",
    "\n",
    "We reduce the dimensionality of our rating matrix R by factorizing it into two factors P and Q as shown below -  \n",
    "\n",
    "\\begin{equation*}\n",
    "R =  P . Q^T\n",
    "\\end{equation*}\n",
    "\n",
    "where,\n",
    " - **R** is our rating matrix of size (N, M)\n",
    " - **P** is our first factorized matrix of user feature of size (N, F)\n",
    " - **Q** is our second factorized matrix of item feature of size (N, F)\n",
    " - **F** is chosen such that $F < min(n,m)$\n",
    "\n",
    "\n",
    "The above factorization looks very similar to the **truncated singular value decomposition (SVD)** problem were we factorize any matrix of size (N,M) into 3 factors U, S and V. Read more about SVD from its [Wiki page](https://en.wikipedia.org/wiki/Singular_value_decomposition).\n",
    "\n",
    "**Truncated SVD**\n",
    "\n",
    "\\begin{equation*}\n",
    "R \\approx \\hat{R} = U. \\hat{S}. V^T\n",
    "\\end{equation*}\n",
    "\n",
    "where,\n",
    " - **R** is a matrix of size (N,M)\n",
    " - $\\hat{\\textbf{R}}$ is an approximation matrix of R with the rank k\n",
    " - **U** is a matrix of size (N,k)\n",
    " - $\\hat{\\textbf{S}}$ is a diagonal matrix of size (k,k) - this is made up of top k **Singular Values** of matrix **R** \n",
    " - **V** is a matrix of size (M,k)\n",
    " \n",
    "In truncated SVD the approximation of $\\textbf{R}$ with $\\hat{\\textbf{R}}$ is called Low Rank Matrix approximation. Again, read more about it on the wiki page. This is what we want to do for our rating matrix $\\textbf{R}$ as well.  \n",
    "\n",
    "However, SVD is only applicable if the original matrix R is full and does not have missing values. In our case its not true as our rating matrix is very sparse and has lots of missing values. We could try to impute these missing values with some base values (like global average or item level average etc.) and then factorize it. This will however, beat the purpose of rating prediction for missing ratings as now the factorized matrices will try to approximate these missing ratings as close to these base values. So we cannot use the SVD for our problem.\n",
    "\n",
    "**FunkSVD : Matrix Factorization using SGD - Simon Funk's methodology from Netflix Competition**\n",
    "\n",
    "A modified approach is to factorize the rating matrix by the method **highlighted by Simon Funk during the netflix prize competition**. Read about it on [his blog here](https://sifter.org/~simon/journal/20061211.html). He basically factorized the matrix by trying to approximate each user feature value and item feature value by reducing the error between the PREDICTED rating vs the KNOWN ratings (for non-missing ratings only). He used **stochastic gradient descent** approach to optimally solve for the values by minimizing the cost function.\n",
    "\n",
    "So, if we factorize the ratings matrix R into P and Q matrices with reduced dimension K, then the predicted rating by user u for the movie i using the two factorized matrices will be - \n",
    "\n",
    "\\begin{equation*}\n",
    "\\hat{r}_{ui} = p_u . q_i^T = \\sum_{k=1}^{K} p_{uk} . q_{ik}^T\n",
    "\\end{equation*}\n",
    "\n",
    "**Adding bias** to the predicted rating : To account for the fact that each user has some some bias in giving the ratings (some give higher ratings than most and some user give lower ratings), we introduce the bias terms in the predicted rating. A bias for rating $r_{ui}$ can be expressed as - \n",
    "\n",
    "\\begin{equation*}\n",
    "b_{ui} = \\mu + b_i + b_u \n",
    "\\end{equation*}\n",
    "\n",
    "Here $\\mu$ is the global average rating, $b_i$ is the item bias and $b_u$ is the user bias. For example, suppose that we want to estimate for user Joe’s rating of the movie Titanic. Now, say that the average rating over all movies, $\\mu$ is 3.7 stars. Furthermore, Titanic is better than an average movie, so it tends to be rated 0.5 stars above the average ($b_i$). On the other hand, Joe is a critical user, who tends to rate 0.3 stars lower than the average ($b_u$). Thus, the estimate for Titanic’s rating by Joe would be 3.9 stars (3.7 + 0.5 - 0.3). Adding these bias terms to the predicted rating above changes the predicted rating to -\n",
    "\n",
    "\\begin{equation*}\n",
    "\\hat{r}_{ui} = \\mu + b_i + b_u + p_u . q_i^T\n",
    "\\end{equation*}\n",
    "\n",
    "The error between the predicted the actual rating will be -\n",
    "\n",
    "\\begin{equation*}\n",
    "    e_{ui} = (r_{ui} - \\hat{r}_{ui}) = (r_{ui} - \\mu - b_i - b_u - p_u.q_i^T)\n",
    "\\end{equation*}\n",
    "\n",
    "We can define the cost function for our optimising algo as the square of this error summed up over all the training ratings (non-missing ones) - \n",
    "\n",
    "\\begin{equation*}\n",
    "    \\text{Cost Function C} = \\sum_{r_{ui} \\in R_{train}} (r_{ui} - \\mu - b_i - b_u - p_u.q_i^T)^2\n",
    "\\end{equation*}\n",
    "\n",
    "**Adding regularization** to our cost function : To avoid overfitting by the algorithms based on the training ratings we also add the regularization factors to our cost function. The revised cost function is now - \n",
    "\n",
    "\\begin{equation*}\n",
    "    \\text{Cost Function C} = \\sum_{r_{ui} \\in R_{train}} (r_{ui} - \\mu - b_i - b_u - p_u.q_i^T)^2 + \\lambda . (b_u^2 + b_i^2 + ||p_u||^2 + ||q_i||^2)\n",
    "\\end{equation*}\n",
    "\n",
    "where, $\\lambda$ is the regularization factor.\n",
    "\n",
    "Once we have the cost function we can use gradient descent process to minimize this cost iteratively and solve for the unknowns. The steps for this would be as follows -\n",
    "\n",
    " - Calculate the gradient formulas for the cost function wrt. each of the unknown factors. These gradient formula would be used to calculate the gradient value at each iteration and update each of these factors so as to reach a point of minimum cost. \n",
    " - Randomly initialize the values of all unknown parameters before starting the itearion.\n",
    " - Iteratively, calculate the gradient of the cost function wrt each unknown factor\n",
    " - Update the unknown factors by moving them by a little step (a learning rate) in the negative direction of the gradient.\n",
    " - Update the cost function value with the new unknown factors values and then repeat the iterations till the cost value becomes below a certain value or stops changing much (stopping criteria for the iteration).\n",
    "\n",
    "Without going into the detail the gradient formula calculations, the final formula for step by step update for each unknown factor is shown below. We can use this to calculate the updated values in each iteration. \n",
    "\n",
    "\\begin{equation*}\n",
    "b_u \\leftarrow b_u + \\gamma . (e_{ui} - \\lambda.b_u) \\\\\n",
    "b_i \\leftarrow b_i + \\gamma . (e_{ui} - \\lambda.b_i) \\\\\n",
    "p_u \\leftarrow p_u + \\gamma . (e_{ui}.q_i - \\lambda.p_u) \\\\\n",
    "q_i \\leftarrow q_i + \\gamma . (e_{ui}.p_u - \\lambda.q_i)\n",
    "\\end{equation*}\n",
    "\n",
    "where $\\gamma$ is the learning rate (small step used in each iteration).\n",
    "\n",
    "\n",
    "Further details of the methodology can be read in detail in the following reference materials -\n",
    "\n",
    " - [Simon's journal](https://sifter.org/~simon/journal/20061211.html)\n",
    " - [Paper by Yehuda Koren](https://datajobs.com/data-science-repo/Recommender-Systems-[Netflix].pdf)\n",
    " - [Paper by Arkadiusz Paterek](https://www.mimuw.edu.pl/~paterek/ap_kdd.pdf)\n",
    " - [Post by Albert Yeung for python implementation](http://www.albertauyeung.com/post/python-matrix-factorization/)\n",
    " \n",
    " \n",
    "### II. Details of our exercise\n",
    "\n",
    "In this exercise we will use the matrix factorization method to create a movie recommendation function.\n",
    "\n",
    "We will test this methodology for Movielens dataset. You can get the latest datsets [here](https://grouplens.org/datasets/movielens/latest/). This dataset has 2500 movies and 862 user's movie ratings. The ratings table is ~260K. The datasets available for this exercise have the following two tables:\n",
    "\n",
    " - **movies**  : This dataset has the movieId and the name and details of all the movies in the database.\n",
    " - **ratings** : This dataset has the ratings given by each userId to the movieId they have seen.\n",
    "\n",
    "We also have a larger version of the same dataset with ~27K movies and ~138K users with ~20M rows in ratings dataset.\n",
    " \n",
    "**We will do the following exercises to explore the [surpise package](http://surpriselib.com/) in python:**\n",
    "\n",
    " 1. **Test the SVD algorithm and try to find best parameters (learning rate & regularization factor) on small dataset**\n",
    " 2. **Test the RMSE score from various algorithms - SVD, knnbasic, knnwithmeans, NMF (with and without bias) on small dataset**\n",
    " 3. **Choose the best algorithm and test it on the large dataset and check the time taken for prediction**"
   ]
  },
  {
   "cell_type": "code",
   "execution_count": 1,
   "metadata": {},
   "outputs": [
    {
     "name": "stdout",
     "output_type": "stream",
     "text": [
      "Small dataset movies rows : 2500  and ratings rows : 264505\n",
      "Unique movies in small dataset :  2500\n",
      "Unique users in small ratings data :  862\n",
      "Unique movies in small ratings data :  2500\n"
     ]
    }
   ],
   "source": [
    "####################################\n",
    "# 1. import key libraries and datasets\n",
    "####################################\n",
    "\n",
    "import pandas as pd\n",
    "import numpy as np\n",
    "import time\n",
    "import gc\n",
    "import seaborn as sns\n",
    "import matplotlib.pyplot as plt\n",
    "%matplotlib inline\n",
    "\n",
    "from sklearn.metrics.pairwise import cosine_similarity as cs\n",
    "from surprise import SVD\n",
    "from surprise import KNNWithMeans\n",
    "from surprise import NMF\n",
    "from surprise import KNNBasic\n",
    "from surprise import accuracy\n",
    "from surprise import Reader\n",
    "from surprise import Dataset\n",
    "from surprise.model_selection import train_test_split\n",
    "from surprise.model_selection import GridSearchCV\n",
    "\n",
    "sns.set(style='darkgrid')\n",
    "sns.set(font_scale=1.5)\n",
    "\n",
    "# import datasets - small\n",
    "movies = pd.read_csv('movies.csv')\n",
    "ratings = pd.read_csv('ratings.csv')\n",
    "\n",
    "# Get basic information about the datasets\n",
    "print \"Small dataset movies rows :\", movies.shape[0], \" and ratings rows :\",ratings.shape[0]\n",
    "print 'Unique movies in small dataset : ', movies['movieId'].nunique()\n",
    "print 'Unique users in small ratings data : ', ratings['userId'].nunique()\n",
    "print 'Unique movies in small ratings data : ', ratings['movieId'].nunique()\n",
    "\n",
    "#reformat the rating dataset as per the surprise package requirement\n",
    "ratings = ratings.rename(columns={'movieId':'itemId'})"
   ]
  },
  {
   "cell_type": "code",
   "execution_count": 2,
   "metadata": {},
   "outputs": [
    {
     "data": {
      "text/html": [
       "<div>\n",
       "<style scoped>\n",
       "    .dataframe tbody tr th:only-of-type {\n",
       "        vertical-align: middle;\n",
       "    }\n",
       "\n",
       "    .dataframe tbody tr th {\n",
       "        vertical-align: top;\n",
       "    }\n",
       "\n",
       "    .dataframe thead th {\n",
       "        text-align: right;\n",
       "    }\n",
       "</style>\n",
       "<table border=\"1\" class=\"dataframe\">\n",
       "  <thead>\n",
       "    <tr style=\"text-align: right;\">\n",
       "      <th></th>\n",
       "      <th>movieId</th>\n",
       "      <th>title</th>\n",
       "      <th>genres</th>\n",
       "    </tr>\n",
       "  </thead>\n",
       "  <tbody>\n",
       "    <tr>\n",
       "      <th>0</th>\n",
       "      <td>1</td>\n",
       "      <td>Toy Story (1995)</td>\n",
       "      <td>Adventure|Animation|Children|Comedy|Fantasy</td>\n",
       "    </tr>\n",
       "    <tr>\n",
       "      <th>1</th>\n",
       "      <td>2</td>\n",
       "      <td>Jumanji (1995)</td>\n",
       "      <td>Adventure|Children|Fantasy</td>\n",
       "    </tr>\n",
       "    <tr>\n",
       "      <th>2</th>\n",
       "      <td>3</td>\n",
       "      <td>Grumpier Old Men (1995)</td>\n",
       "      <td>Comedy|Romance</td>\n",
       "    </tr>\n",
       "    <tr>\n",
       "      <th>3</th>\n",
       "      <td>4</td>\n",
       "      <td>Waiting to Exhale (1995)</td>\n",
       "      <td>Comedy|Drama|Romance</td>\n",
       "    </tr>\n",
       "    <tr>\n",
       "      <th>4</th>\n",
       "      <td>5</td>\n",
       "      <td>Father of the Bride Part II (1995)</td>\n",
       "      <td>Comedy</td>\n",
       "    </tr>\n",
       "  </tbody>\n",
       "</table>\n",
       "</div>"
      ],
      "text/plain": [
       "   movieId                               title  \\\n",
       "0        1                    Toy Story (1995)   \n",
       "1        2                      Jumanji (1995)   \n",
       "2        3             Grumpier Old Men (1995)   \n",
       "3        4            Waiting to Exhale (1995)   \n",
       "4        5  Father of the Bride Part II (1995)   \n",
       "\n",
       "                                        genres  \n",
       "0  Adventure|Animation|Children|Comedy|Fantasy  \n",
       "1                   Adventure|Children|Fantasy  \n",
       "2                               Comedy|Romance  \n",
       "3                         Comedy|Drama|Romance  \n",
       "4                                       Comedy  "
      ]
     },
     "execution_count": 2,
     "metadata": {},
     "output_type": "execute_result"
    }
   ],
   "source": [
    "movies.head()"
   ]
  },
  {
   "cell_type": "code",
   "execution_count": 3,
   "metadata": {},
   "outputs": [
    {
     "data": {
      "text/html": [
       "<div>\n",
       "<style scoped>\n",
       "    .dataframe tbody tr th:only-of-type {\n",
       "        vertical-align: middle;\n",
       "    }\n",
       "\n",
       "    .dataframe tbody tr th {\n",
       "        vertical-align: top;\n",
       "    }\n",
       "\n",
       "    .dataframe thead th {\n",
       "        text-align: right;\n",
       "    }\n",
       "</style>\n",
       "<table border=\"1\" class=\"dataframe\">\n",
       "  <thead>\n",
       "    <tr style=\"text-align: right;\">\n",
       "      <th></th>\n",
       "      <th>userId</th>\n",
       "      <th>itemId</th>\n",
       "      <th>rating</th>\n",
       "      <th>timestamp</th>\n",
       "    </tr>\n",
       "  </thead>\n",
       "  <tbody>\n",
       "    <tr>\n",
       "      <th>0</th>\n",
       "      <td>12882</td>\n",
       "      <td>1</td>\n",
       "      <td>4.0</td>\n",
       "      <td>1147195252</td>\n",
       "    </tr>\n",
       "    <tr>\n",
       "      <th>1</th>\n",
       "      <td>12882</td>\n",
       "      <td>32</td>\n",
       "      <td>3.5</td>\n",
       "      <td>1147195307</td>\n",
       "    </tr>\n",
       "    <tr>\n",
       "      <th>2</th>\n",
       "      <td>12882</td>\n",
       "      <td>47</td>\n",
       "      <td>5.0</td>\n",
       "      <td>1147195343</td>\n",
       "    </tr>\n",
       "    <tr>\n",
       "      <th>3</th>\n",
       "      <td>12882</td>\n",
       "      <td>50</td>\n",
       "      <td>5.0</td>\n",
       "      <td>1147185499</td>\n",
       "    </tr>\n",
       "    <tr>\n",
       "      <th>4</th>\n",
       "      <td>12882</td>\n",
       "      <td>110</td>\n",
       "      <td>4.5</td>\n",
       "      <td>1147195239</td>\n",
       "    </tr>\n",
       "  </tbody>\n",
       "</table>\n",
       "</div>"
      ],
      "text/plain": [
       "   userId  itemId  rating   timestamp\n",
       "0   12882       1     4.0  1147195252\n",
       "1   12882      32     3.5  1147195307\n",
       "2   12882      47     5.0  1147195343\n",
       "3   12882      50     5.0  1147185499\n",
       "4   12882     110     4.5  1147195239"
      ]
     },
     "execution_count": 3,
     "metadata": {},
     "output_type": "execute_result"
    }
   ],
   "source": [
    "ratings.head()"
   ]
  },
  {
   "cell_type": "markdown",
   "metadata": {},
   "source": [
    "### I. Test SVD algorithm and find best parameters - learning rate & regularization factor"
   ]
  },
  {
   "cell_type": "code",
   "execution_count": 4,
   "metadata": {},
   "outputs": [
    {
     "name": "stdout",
     "output_type": "stream",
     "text": [
      "Time to finish the parameter tuning on training dataset : 11.1 mins\n",
      "The best parameters -\n",
      "Learning rate :  0.012\n",
      "Regularization factor :  0.03\n",
      "The minimum RMSE value on training dataset : 0.45639081507\n"
     ]
    }
   ],
   "source": [
    "####################################\n",
    "# Use SVD algorithm from the Surprise package to get the predictions \n",
    "# we will also find the suitable prameters - learning rate and regilarization rate\n",
    "# using the training dataset and then use the best parameters for the test set to get the rmse\n",
    "####################################\n",
    "\n",
    "st = time.time()\n",
    "\n",
    "#define the rating scale for surprise reader and read the rating dataset \n",
    "rdr = Reader(rating_scale=(1,5))\n",
    "rating_data = Dataset.load_from_df(ratings[['userId', 'itemId', 'rating']], rdr)\n",
    "\n",
    "# sample random trainset and testset\n",
    "# test set is made of 20% of the ratings.\n",
    "trainset, testset = train_test_split(rating_data, test_size=.2, random_state=123)\n",
    "\n",
    "#loop over various parameters to find the best RMSE within the trainset\n",
    "test_temp = trainset.build_testset()\n",
    "param_summ = pd.DataFrame(columns=['learning_rate', 'reg_parm', 'train_rmse'])\n",
    "\n",
    "for lr in [0.004, 0.006, 0.008, 0.01, 0.012]:\n",
    "    for reg in [0.03, 0.04, 0.05, 0.06, 0.07]:\n",
    "        algo = SVD(lr_all = lr, reg_all = reg)\n",
    "        predictions = algo.fit(trainset).test(test_temp)\n",
    "        rmse = accuracy.rmse(predictions, verbose=False)\n",
    "        temp = pd.DataFrame(columns=['learning_rate', 'reg_parm', 'train_rmse'])\n",
    "        temp.loc[0,['learning_rate']] = lr\n",
    "        temp.loc[0,['reg_parm']] = reg\n",
    "        temp.loc[0,['train_rmse']] = rmse\n",
    "        param_summ = param_summ.append(temp)\n",
    "        del temp\n",
    "        \n",
    "param_summ = param_summ.sort_values(by='train_rmse', ascending=True).reset_index(drop=True)\n",
    "\n",
    "et = time.time()\n",
    "\n",
    "print \"Time to finish the parameter tuning on training dataset :\", round((et-st)/60, 2), \"mins\"\n",
    "print \"The best parameters -\"\n",
    "print \"Learning rate : \", param_summ['learning_rate'].iloc[0]\n",
    "print \"Regularization factor : \", param_summ['reg_parm'].iloc[0]\n",
    "print \"The minimum RMSE value on training dataset :\", param_summ['train_rmse'].iloc[0]"
   ]
  },
  {
   "cell_type": "code",
   "execution_count": 5,
   "metadata": {},
   "outputs": [
    {
     "name": "stderr",
     "output_type": "stream",
     "text": [
      "//anaconda2/lib/python2.7/site-packages/pandas/core/indexing.py:190: SettingWithCopyWarning: \n",
      "A value is trying to be set on a copy of a slice from a DataFrame\n",
      "\n",
      "See the caveats in the documentation: http://pandas.pydata.org/pandas-docs/stable/indexing.html#indexing-view-versus-copy\n",
      "  self._setitem_with_indexer(indexer, value)\n"
     ]
    },
    {
     "name": "stdout",
     "output_type": "stream",
     "text": [
      "Total time taken for RMSE calculation of test dataset : 5.38 mins\n",
      "Minimum RMSE on the test datset : 0.769050900831335\n"
     ]
    }
   ],
   "source": [
    "########################################################################\n",
    "# get the rmse from all the parameters on the test dataset and see \n",
    "# if the best parameters actually give best RMSE\n",
    "########################################################################\n",
    "\n",
    "st = time.time()\n",
    "\n",
    "param_summ['test_rmse'] = 0\n",
    "\n",
    "for i in param_summ.index:\n",
    "    algo = SVD(lr_all = param_summ['learning_rate'].iloc[i], reg_all = param_summ['reg_parm'].iloc[i])\n",
    "    predictions = algo.fit(trainset).test(testset)\n",
    "    rmse = accuracy.rmse(predictions, verbose=False)\n",
    "    param_summ['test_rmse'].loc[i] = rmse \n",
    "\n",
    "et = time.time()\n",
    "\n",
    "print \"Total time taken for RMSE calculation of test dataset :\", round((et-st)/60, 2), \"mins\"\n",
    "print \"Minimum RMSE on the test datset :\", param_summ['test_rmse'].min()"
   ]
  },
  {
   "cell_type": "code",
   "execution_count": 8,
   "metadata": {},
   "outputs": [
    {
     "data": {
      "text/plain": [
       "<seaborn.axisgrid.FacetGrid at 0x1a2c73dc90>"
      ]
     },
     "execution_count": 8,
     "metadata": {},
     "output_type": "execute_result"
    },
    {
     "data": {
      "image/png": "[encoded data removed]",
      "text/plain": [
       "<Figure size 978.75x432 with 1 Axes>"
      ]
     },
     "metadata": {},
     "output_type": "display_data"
    }
   ],
   "source": [
    "########################################################################\n",
    "# plot the RMSE vs all the parameter combinations - to see which one gave the best RMSE\n",
    "########################################################################\n",
    "\n",
    "param_summ = param_summ.sort_values(by='train_rmse', ascending=False).reset_index(drop=True)\n",
    "param_summ['LR'] = param_summ['learning_rate'].apply(str)\n",
    "param_summ['RF'] = param_summ['reg_parm'].apply(str)\n",
    "param_summ['parameters_LR_RF'] = param_summ[['LR', 'RF']].apply(lambda x: '_'.join(x), axis=1)\n",
    "param_summ_plot = pd.melt(param_summ, id_vars=['parameters_LR_RF'], value_vars=['train_rmse', 'test_rmse'], \\\n",
    "                          var_name = 'dataset', value_name='rmse')\n",
    "\n",
    "sns.set(font_scale=1.25)\n",
    "lp = sns.catplot(x='parameters_LR_RF', y='rmse', hue='dataset', data=param_summ_plot, \\\n",
    "                 kind='point',height=6, aspect=12/6)\n",
    "lp.fig.suptitle('RMSE vs Parameters')\n",
    "lp.set_xticklabels(rotation=90)"
   ]
  },
  {
   "cell_type": "markdown",
   "metadata": {},
   "source": [
    "We can see from the plot above that the RMSE on the test dataset doesn't improve much even though the RMSE of the training dataset goes low. The training dataset is getting overfitted with these parameters."
   ]
  },
  {
   "cell_type": "markdown",
   "metadata": {},
   "source": [
    "### II. Test the RMSE score from various algorithms"
   ]
  },
  {
   "cell_type": "code",
   "execution_count": 25,
   "metadata": {},
   "outputs": [
    {
     "name": "stdout",
     "output_type": "stream",
     "text": [
      "Computing the msd similarity matrix...\n",
      "Done computing similarity matrix.\n",
      "Computing the msd similarity matrix...\n",
      "Done computing similarity matrix.\n",
      "Time to finish the rmse calculation : 2.63 mins\n"
     ]
    },
    {
     "data": {
      "text/plain": [
       "<seaborn.axisgrid.FacetGrid at 0x1a2b63eb50>"
      ]
     },
     "execution_count": 25,
     "metadata": {},
     "output_type": "execute_result"
    },
    {
     "data": {
      "image/png": "[encoded data removed]",
      "text/plain": [
       "<Figure size 720x360 with 1 Axes>"
      ]
     },
     "metadata": {},
     "output_type": "display_data"
    }
   ],
   "source": [
    "####################################\n",
    "# Find the best possible result from various algos\n",
    "# we will test the following algos - SVD, knnbasic, knnwithmeans, non negative matrix factorization (NMF)\n",
    "####################################\n",
    "\n",
    "st = time.time()\n",
    "\n",
    "#define the rating scale for surprise reader and read the rating dataset \n",
    "rdr = Reader(rating_scale=(1,5))\n",
    "rating_data = Dataset.load_from_df(ratings[['userId', 'itemId', 'rating']], rdr)\n",
    "\n",
    "# sample random trainset and testset\n",
    "# test set is made of 20% of the ratings.\n",
    "trainset, testset = train_test_split(rating_data, test_size=.2, random_state=123)\n",
    "\n",
    "data = [['SVD', 0],['KNNBasic', 0],['KNNWithMeans', 0],['NMF wo bias', 0],['NMF with bias', 0]]\n",
    "param_summ = pd.DataFrame(data=data, columns=['algo', 'rmse'])\n",
    "\n",
    "# SVD\n",
    "algo = SVD()\n",
    "predictions = algo.fit(trainset).test(test_temp)\n",
    "rmse = accuracy.rmse(predictions, verbose=False)\n",
    "param_summ.loc[0,['rmse']] = rmse\n",
    "\n",
    "# knnbasic\n",
    "algo = KNNBasic()\n",
    "predictions = algo.fit(trainset).test(test_temp)\n",
    "rmse = accuracy.rmse(predictions, verbose=False)\n",
    "param_summ.loc[1,['rmse']] = rmse\n",
    "\n",
    "# KNNWithMeans\n",
    "algo = KNNWithMeans()\n",
    "predictions = algo.fit(trainset).test(test_temp)\n",
    "rmse = accuracy.rmse(predictions, verbose=False)\n",
    "param_summ.loc[2,['rmse']] = rmse\n",
    "\n",
    "# NMF wo bias\n",
    "algo = NMF(biased=False)\n",
    "predictions = algo.fit(trainset).test(test_temp)\n",
    "rmse = accuracy.rmse(predictions, verbose=False)\n",
    "param_summ.loc[3,['rmse']] = rmse\n",
    "\n",
    "# NMF with bias\n",
    "algo = NMF(biased=True)\n",
    "predictions = algo.fit(trainset).test(test_temp)\n",
    "rmse = accuracy.rmse(predictions, verbose=False)\n",
    "param_summ.loc[4,['rmse']] = rmse\n",
    "\n",
    "param_summ = param_summ.sort_values(by='rmse', ascending=True).reset_index(drop=True)\n",
    "\n",
    "et = time.time()\n",
    "\n",
    "print \"Time to finish the rmse calculation :\", round((et-st)/60, 2), \"mins\"\n",
    "\n",
    "####################################\n",
    "# Plot the RMSE from various algorithms to see which one gave the best preidction\n",
    "####################################\n",
    "\n",
    "sns.set(font_scale=1.25)\n",
    "lp = sns.catplot(x='algo', y='rmse', data=param_summ, \\\n",
    "                 kind='bar',height=5, aspect=10/5)\n",
    "lp.fig.suptitle('RMSE vs Algorithms')\n",
    "lp.set_xticklabels(rotation=45)\n",
    "lp.set(ylim=(0.5,0.8))"
   ]
  },
  {
   "cell_type": "markdown",
   "metadata": {},
   "source": [
    "We can clearly see that the SVD algorithm performs best for prediction. We will use that for the large dataset to get the RMSE calculations."
   ]
  },
  {
   "cell_type": "markdown",
   "metadata": {},
   "source": [
    "### 3. Test the SVD on the large dataset and check the time taken for prediction"
   ]
  },
  {
   "cell_type": "code",
   "execution_count": 26,
   "metadata": {},
   "outputs": [
    {
     "name": "stdout",
     "output_type": "stream",
     "text": [
      "Large dataset movies rows : 27278  and ratings rows : 20000263\n",
      "Unique movies in dataset :  27278\n",
      "Unique users in ratings data :  138493\n",
      "Unique movies in ratings data :  26744\n"
     ]
    }
   ],
   "source": [
    "####################################\n",
    "# import the large dataset\n",
    "####################################\n",
    "\n",
    "movies_20m = pd.read_csv('movie_20m.csv')\n",
    "ratings_20m = pd.read_csv('rating_20m.csv')\n",
    "\n",
    "# Get basic information about the datasets\n",
    "print \"Large dataset movies rows :\", movies_20m.shape[0], \" and ratings rows :\",ratings_20m.shape[0]\n",
    "print 'Unique movies in dataset : ', movies_20m['movieId'].nunique()\n",
    "print 'Unique users in ratings data : ', ratings_20m['userId'].nunique()\n",
    "print 'Unique movies in ratings data : ', ratings_20m['movieId'].nunique()\n",
    "\n",
    "#reformat the rating dataset as per the surprise package requirement\n",
    "ratings_20m = ratings_20m.rename(columns={'movieId':'itemId'})"
   ]
  },
  {
   "cell_type": "code",
   "execution_count": 27,
   "metadata": {},
   "outputs": [
    {
     "name": "stdout",
     "output_type": "stream",
     "text": [
      "Total time taken for RMSE calculation of test dataset : 24.03 mins\n",
      "RMSE on the test datset : 0.7860310300598353\n"
     ]
    }
   ],
   "source": [
    "####################################\n",
    "# fit the SVD algo on the large dataset and get the time for prediction\n",
    "####################################\n",
    "\n",
    "st = time.time()\n",
    "\n",
    "#define the rating scale for surprise reader and read the rating dataset \n",
    "rdr = Reader(rating_scale=(1,5))\n",
    "rating_data_20m = Dataset.load_from_df(ratings_20m[['userId', 'itemId', 'rating']], rdr)\n",
    "\n",
    "# sample random trainset and testset - test set is made of 20% of the ratings.\n",
    "trainset, testset = train_test_split(rating_data_20m, test_size=.2, random_state=123)\n",
    "\n",
    "# fit the SVD algo on training and predict on test\n",
    "algo = SVD()\n",
    "predictions = algo.fit(trainset).test(testset)\n",
    "rmse = accuracy.rmse(predictions, verbose=False)\n",
    "\n",
    "et = time.time()\n",
    "\n",
    "print \"Total time taken for RMSE calculation of test dataset :\", round((et-st)/60, 2), \"mins\"\n",
    "print \"RMSE on the test datset :\", rmse"
   ]
  },
  {
   "cell_type": "code",
   "execution_count": null,
   "metadata": {},
   "outputs": [],
   "source": []
  }
 ],
 "metadata": {
  "kernelspec": {
   "display_name": "Python 2",
   "language": "python",
   "name": "python2"
  },
  "language_info": {
   "codemirror_mode": {
    "name": "ipython",
    "version": 2
   },
   "file_extension": ".py",
   "mimetype": "text/x-python",
   "name": "python",
   "nbconvert_exporter": "python",
   "pygments_lexer": "ipython2",
   "version": "2.7.16"
  }
 },
 "nbformat": 4,
 "nbformat_minor": 2
}
