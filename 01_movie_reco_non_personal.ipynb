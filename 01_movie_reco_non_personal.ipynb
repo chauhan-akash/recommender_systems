{
 "cells": [
  {
   "cell_type": "markdown",
   "metadata": {
    "nbpresent": {
     "id": "de6477c4-952f-4499-9153-03a94e1d83a2"
    }
   },
   "source": [
    "### Non-Personalized Recommender\n",
    "\n",
    "Non personalized recommender system is created when we do not want user specific recommendations, but kind of similar recommendation for everyone. This method therefore does not use any user preference but only item level metrics to make recommendations. Most popular items are recommended to all.\n",
    "\n",
    "To find most popular items we can create a score based on simple means. If we need to create a recommendation given a selected item, we can use association rules to make the top recommendations.\n",
    "\n",
    "The recommender system needs to be build using the following rules - \n",
    "1. Mean based recommender - Regular and Damped mean\n",
    "2. Association rule based recommender - Basic and Lift based\n",
    "\n",
    "We will use the following provided datasets - \n",
    "\n",
    "1. ratings.csv contains user ratings of movies\n",
    "2. movies.csv contains details of the movies\n",
    "\n",
    "to build a non-personalized recommender system of movies."
   ]
  },
  {
   "cell_type": "code",
   "execution_count": 6,
   "metadata": {
    "nbpresent": {
     "id": "20288748-6802-4b8f-814c-44bd23a8bc40"
    }
   },
   "outputs": [],
   "source": [
    "# import key libraries\n",
    "\n",
    "import pandas as pd\n",
    "import numpy as np\n",
    "import os\n",
    "import matplotlib.pyplot as plt\n",
    "import time\n",
    "import gc\n",
    "import seaborn as sns\n",
    "\n",
    "%matplotlib inline\n",
    "\n",
    "sns.set(style='darkgrid')"
   ]
  },
  {
   "cell_type": "code",
   "execution_count": 2,
   "metadata": {
    "nbpresent": {
     "id": "2ff178df-0a82-4987-bb1f-e32bd5d5c3f6"
    }
   },
   "outputs": [],
   "source": [
    "# import datasets\n",
    "\n",
    "movies = pd.read_csv('movies.csv')\n",
    "ratings = pd.read_csv('ratings.csv')"
   ]
  },
  {
   "cell_type": "code",
   "execution_count": 3,
   "metadata": {
    "nbpresent": {
     "id": "8e235876-3ae2-4578-8b93-f39d02d28af1"
    }
   },
   "outputs": [
    {
     "data": {
      "text/html": [
       "<div>\n",
       "<style>\n",
       "    .dataframe thead tr:only-child th {\n",
       "        text-align: right;\n",
       "    }\n",
       "\n",
       "    .dataframe thead th {\n",
       "        text-align: left;\n",
       "    }\n",
       "\n",
       "    .dataframe tbody tr th {\n",
       "        vertical-align: top;\n",
       "    }\n",
       "</style>\n",
       "<table border=\"1\" class=\"dataframe\">\n",
       "  <thead>\n",
       "    <tr style=\"text-align: right;\">\n",
       "      <th></th>\n",
       "      <th>movieId</th>\n",
       "      <th>title</th>\n",
       "      <th>genres</th>\n",
       "    </tr>\n",
       "  </thead>\n",
       "  <tbody>\n",
       "    <tr>\n",
       "      <th>0</th>\n",
       "      <td>1</td>\n",
       "      <td>Toy Story (1995)</td>\n",
       "      <td>Adventure|Animation|Children|Comedy|Fantasy</td>\n",
       "    </tr>\n",
       "    <tr>\n",
       "      <th>1</th>\n",
       "      <td>2</td>\n",
       "      <td>Jumanji (1995)</td>\n",
       "      <td>Adventure|Children|Fantasy</td>\n",
       "    </tr>\n",
       "    <tr>\n",
       "      <th>2</th>\n",
       "      <td>3</td>\n",
       "      <td>Grumpier Old Men (1995)</td>\n",
       "      <td>Comedy|Romance</td>\n",
       "    </tr>\n",
       "    <tr>\n",
       "      <th>3</th>\n",
       "      <td>4</td>\n",
       "      <td>Waiting to Exhale (1995)</td>\n",
       "      <td>Comedy|Drama|Romance</td>\n",
       "    </tr>\n",
       "    <tr>\n",
       "      <th>4</th>\n",
       "      <td>5</td>\n",
       "      <td>Father of the Bride Part II (1995)</td>\n",
       "      <td>Comedy</td>\n",
       "    </tr>\n",
       "  </tbody>\n",
       "</table>\n",
       "</div>"
      ],
      "text/plain": [
       "   movieId                               title  \\\n",
       "0        1                    Toy Story (1995)   \n",
       "1        2                      Jumanji (1995)   \n",
       "2        3             Grumpier Old Men (1995)   \n",
       "3        4            Waiting to Exhale (1995)   \n",
       "4        5  Father of the Bride Part II (1995)   \n",
       "\n",
       "                                        genres  \n",
       "0  Adventure|Animation|Children|Comedy|Fantasy  \n",
       "1                   Adventure|Children|Fantasy  \n",
       "2                               Comedy|Romance  \n",
       "3                         Comedy|Drama|Romance  \n",
       "4                                       Comedy  "
      ]
     },
     "execution_count": 3,
     "metadata": {},
     "output_type": "execute_result"
    }
   ],
   "source": [
    "movies.head()"
   ]
  },
  {
   "cell_type": "code",
   "execution_count": 4,
   "metadata": {
    "nbpresent": {
     "id": "f0f38d1f-991c-4852-a9e1-91ab0dd6e9cd"
    }
   },
   "outputs": [
    {
     "data": {
      "text/html": [
       "<div>\n",
       "<style>\n",
       "    .dataframe thead tr:only-child th {\n",
       "        text-align: right;\n",
       "    }\n",
       "\n",
       "    .dataframe thead th {\n",
       "        text-align: left;\n",
       "    }\n",
       "\n",
       "    .dataframe tbody tr th {\n",
       "        vertical-align: top;\n",
       "    }\n",
       "</style>\n",
       "<table border=\"1\" class=\"dataframe\">\n",
       "  <thead>\n",
       "    <tr style=\"text-align: right;\">\n",
       "      <th></th>\n",
       "      <th>userId</th>\n",
       "      <th>movieId</th>\n",
       "      <th>rating</th>\n",
       "      <th>timestamp</th>\n",
       "    </tr>\n",
       "  </thead>\n",
       "  <tbody>\n",
       "    <tr>\n",
       "      <th>0</th>\n",
       "      <td>12882</td>\n",
       "      <td>1</td>\n",
       "      <td>4.0</td>\n",
       "      <td>1147195252</td>\n",
       "    </tr>\n",
       "    <tr>\n",
       "      <th>1</th>\n",
       "      <td>12882</td>\n",
       "      <td>32</td>\n",
       "      <td>3.5</td>\n",
       "      <td>1147195307</td>\n",
       "    </tr>\n",
       "    <tr>\n",
       "      <th>2</th>\n",
       "      <td>12882</td>\n",
       "      <td>47</td>\n",
       "      <td>5.0</td>\n",
       "      <td>1147195343</td>\n",
       "    </tr>\n",
       "    <tr>\n",
       "      <th>3</th>\n",
       "      <td>12882</td>\n",
       "      <td>50</td>\n",
       "      <td>5.0</td>\n",
       "      <td>1147185499</td>\n",
       "    </tr>\n",
       "    <tr>\n",
       "      <th>4</th>\n",
       "      <td>12882</td>\n",
       "      <td>110</td>\n",
       "      <td>4.5</td>\n",
       "      <td>1147195239</td>\n",
       "    </tr>\n",
       "  </tbody>\n",
       "</table>\n",
       "</div>"
      ],
      "text/plain": [
       "   userId  movieId  rating   timestamp\n",
       "0   12882        1     4.0  1147195252\n",
       "1   12882       32     3.5  1147195307\n",
       "2   12882       47     5.0  1147195343\n",
       "3   12882       50     5.0  1147185499\n",
       "4   12882      110     4.5  1147195239"
      ]
     },
     "execution_count": 4,
     "metadata": {},
     "output_type": "execute_result"
    }
   ],
   "source": [
    "ratings.head()"
   ]
  },
  {
   "cell_type": "code",
   "execution_count": 5,
   "metadata": {
    "nbpresent": {
     "id": "bf1ae483-bb98-4c7b-a5e5-964c85a543fc"
    }
   },
   "outputs": [
    {
     "name": "stdout",
     "output_type": "stream",
     "text": [
      "(2500, 3) (264505, 4)\n",
      "Unique movies :  2500\n",
      "Unique users in ratings data :  862\n",
      "Unique movies in ratings data :  2500\n"
     ]
    }
   ],
   "source": [
    "print movies.shape, ratings.shape\n",
    "print 'Unique movies : ', movies['movieId'].nunique()\n",
    "print 'Unique users in ratings data : ', ratings['userId'].nunique()\n",
    "print 'Unique movies in ratings data : ', ratings['movieId'].nunique()\n",
    "print 'Unique genres in movies data : ', movies['genres'].nunique()"
   ]
  },
  {
   "cell_type": "code",
   "execution_count": 14,
   "metadata": {},
   "outputs": [
    {
     "data": {
      "text/plain": [
       "<matplotlib.axes._subplots.AxesSubplot at 0x1219572d0>"
      ]
     },
     "execution_count": 14,
     "metadata": {},
     "output_type": "execute_result"
    },
    {
     "data": {
      "image/png": "[encoded data removed]",
      "text/plain": [
       "<matplotlib.figure.Figure at 0x1217028d0>"
      ]
     },
     "metadata": {},
     "output_type": "display_data"
    }
   ],
   "source": [
    "# Average ratings across all movies\n",
    "mv_rating = ratings.groupby(by='movieId',as_index=False).agg({'rating':'mean'}).reset_index(drop=True)\n",
    "f, ax = plt.subplots(figsize = (10,5))\n",
    "sns.distplot(mv_rating['rating'], color='red')"
   ]
  },
  {
   "cell_type": "code",
   "execution_count": 16,
   "metadata": {},
   "outputs": [
    {
     "data": {
      "text/plain": [
       "<matplotlib.axes._subplots.AxesSubplot at 0x121cf7450>"
      ]
     },
     "execution_count": 16,
     "metadata": {},
     "output_type": "execute_result"
    },
    {
     "data": {
      "image/png": "[encoded data removed]",
      "text/plain": [
       "<matplotlib.figure.Figure at 0x11abaa450>"
      ]
     },
     "metadata": {},
     "output_type": "display_data"
    }
   ],
   "source": [
    "# Average ratings across all users\n",
    "user_rating = ratings.groupby(by='userId',as_index=False).agg({'rating':'mean'}).reset_index(drop=True)\n",
    "f, ax = plt.subplots(figsize = (10,5))\n",
    "sns.distplot(user_rating['rating'], color='blue')"
   ]
  },
  {
   "cell_type": "markdown",
   "metadata": {
    "nbpresent": {
     "id": "3b14d78d-1a96-4322-9385-00bd7c232ad5"
    }
   },
   "source": [
    "### 1. Functions to compute mean and damped mean given the datasets\n",
    "\n",
    "The mean formula for a movie i which has N users giving it rating is:\n",
    "\n",
    "\\begin{equation*}\n",
    "M(i) = \\frac{\\sum_{u=1}^N R_u}{N}\n",
    "\\end{equation*}\n",
    "\n",
    "\n",
    "The damped mean formula for a movie i which has N users giving it rating is:\n",
    "\n",
    "\\begin{equation*}\n",
    "M(i) = \\frac{\\sum_{u=1}^N R_u + \\alpha \\mu}{N + \\alpha}\n",
    "\\end{equation*}\n",
    "\n",
    "where μ is the global mean rating for all movies and α is the damping factor."
   ]
  },
  {
   "cell_type": "code",
   "execution_count": 17,
   "metadata": {
    "nbpresent": {
     "id": "364b66eb-def7-44d4-9164-820ce48ddaab"
    }
   },
   "outputs": [],
   "source": [
    "# function which return top n movies as recommendations based on mean\n",
    "def top_movie_mean(n):\n",
    "    movies_temp = ratings.groupby(by='movieId', as_index=False).agg({'rating': 'mean'})\n",
    "    movies_temp = movies_temp.sort_values(by='rating', ascending=False).reset_index(drop=True)\n",
    "    movies_temp = movies_temp.merge(movies, on='movieId')\n",
    "    return movies_temp.iloc[0:n][['title', 'rating']]\n",
    "\n",
    "# function to return top n movies based on damped mean\n",
    "def top_movie_damp_mean(n,alpha):\n",
    "    gl_mean = ratings['rating'].mean()\n",
    "    movies_temp = ratings.groupby(by='movieId', as_index=False).agg({'rating':['sum', 'count']})\n",
    "    movies_temp.columns = [\"_\".join(x) for x in movies_temp.columns.ravel()]\n",
    "    movies_temp.rename(columns={'movieId_':'movieId'}, inplace=True)\n",
    "    movies_temp['damp_mean'] = (movies_temp['rating_sum'] + (alpha * gl_mean))/(movies_temp['rating_count'] + alpha)\n",
    "    movies_temp = movies_temp.sort_values(by='damp_mean', ascending=False).reset_index(drop=True)\n",
    "    movies_temp = movies_temp.merge(movies, on='movieId')\n",
    "    return movies_temp.iloc[0:n][['title', 'damp_mean']]"
   ]
  },
  {
   "cell_type": "code",
   "execution_count": 18,
   "metadata": {
    "nbpresent": {
     "id": "769c5d88-f17a-49ce-8872-e73c5eb97bc9"
    }
   },
   "outputs": [
    {
     "data": {
      "text/html": [
       "<div>\n",
       "<style>\n",
       "    .dataframe thead tr:only-child th {\n",
       "        text-align: right;\n",
       "    }\n",
       "\n",
       "    .dataframe thead th {\n",
       "        text-align: left;\n",
       "    }\n",
       "\n",
       "    .dataframe tbody tr th {\n",
       "        vertical-align: top;\n",
       "    }\n",
       "</style>\n",
       "<table border=\"1\" class=\"dataframe\">\n",
       "  <thead>\n",
       "    <tr style=\"text-align: right;\">\n",
       "      <th></th>\n",
       "      <th>title</th>\n",
       "      <th>rating</th>\n",
       "    </tr>\n",
       "  </thead>\n",
       "  <tbody>\n",
       "    <tr>\n",
       "      <th>0</th>\n",
       "      <td>Shawshank Redemption, The (1994)</td>\n",
       "      <td>4.364362</td>\n",
       "    </tr>\n",
       "    <tr>\n",
       "      <th>1</th>\n",
       "      <td>Godfather, The (1972)</td>\n",
       "      <td>4.315848</td>\n",
       "    </tr>\n",
       "    <tr>\n",
       "      <th>2</th>\n",
       "      <td>Touch of Evil (1958)</td>\n",
       "      <td>4.259259</td>\n",
       "    </tr>\n",
       "    <tr>\n",
       "      <th>3</th>\n",
       "      <td>Fight Club (1999)</td>\n",
       "      <td>4.258503</td>\n",
       "    </tr>\n",
       "    <tr>\n",
       "      <th>4</th>\n",
       "      <td>Band of Brothers (2001)</td>\n",
       "      <td>4.247423</td>\n",
       "    </tr>\n",
       "    <tr>\n",
       "      <th>5</th>\n",
       "      <td>12 Angry Men (1957)</td>\n",
       "      <td>4.246032</td>\n",
       "    </tr>\n",
       "    <tr>\n",
       "      <th>6</th>\n",
       "      <td>Stop Making Sense (1984)</td>\n",
       "      <td>4.220000</td>\n",
       "    </tr>\n",
       "    <tr>\n",
       "      <th>7</th>\n",
       "      <td>Godfather: Part II, The (1974)</td>\n",
       "      <td>4.218462</td>\n",
       "    </tr>\n",
       "  </tbody>\n",
       "</table>\n",
       "</div>"
      ],
      "text/plain": [
       "                              title    rating\n",
       "0  Shawshank Redemption, The (1994)  4.364362\n",
       "1             Godfather, The (1972)  4.315848\n",
       "2              Touch of Evil (1958)  4.259259\n",
       "3                 Fight Club (1999)  4.258503\n",
       "4           Band of Brothers (2001)  4.247423\n",
       "5               12 Angry Men (1957)  4.246032\n",
       "6          Stop Making Sense (1984)  4.220000\n",
       "7    Godfather: Part II, The (1974)  4.218462"
      ]
     },
     "execution_count": 18,
     "metadata": {},
     "output_type": "execute_result"
    }
   ],
   "source": [
    "top_movie_mean(8)"
   ]
  },
  {
   "cell_type": "code",
   "execution_count": 19,
   "metadata": {
    "nbpresent": {
     "id": "d52bbc18-34cf-4f4b-a02e-79fbd2ccfb6b"
    }
   },
   "outputs": [
    {
     "data": {
      "text/html": [
       "<div>\n",
       "<style>\n",
       "    .dataframe thead tr:only-child th {\n",
       "        text-align: right;\n",
       "    }\n",
       "\n",
       "    .dataframe thead th {\n",
       "        text-align: left;\n",
       "    }\n",
       "\n",
       "    .dataframe tbody tr th {\n",
       "        vertical-align: top;\n",
       "    }\n",
       "</style>\n",
       "<table border=\"1\" class=\"dataframe\">\n",
       "  <thead>\n",
       "    <tr style=\"text-align: right;\">\n",
       "      <th></th>\n",
       "      <th>title</th>\n",
       "      <th>damp_mean</th>\n",
       "    </tr>\n",
       "  </thead>\n",
       "  <tbody>\n",
       "    <tr>\n",
       "      <th>0</th>\n",
       "      <td>Shawshank Redemption, The (1994)</td>\n",
       "      <td>4.356802</td>\n",
       "    </tr>\n",
       "    <tr>\n",
       "      <th>1</th>\n",
       "      <td>Godfather, The (1972)</td>\n",
       "      <td>4.306888</td>\n",
       "    </tr>\n",
       "    <tr>\n",
       "      <th>2</th>\n",
       "      <td>Fight Club (1999)</td>\n",
       "      <td>4.252142</td>\n",
       "    </tr>\n",
       "    <tr>\n",
       "      <th>3</th>\n",
       "      <td>12 Angry Men (1957)</td>\n",
       "      <td>4.226909</td>\n",
       "    </tr>\n",
       "    <tr>\n",
       "      <th>4</th>\n",
       "      <td>Pulp Fiction (1994)</td>\n",
       "      <td>4.212007</td>\n",
       "    </tr>\n",
       "    <tr>\n",
       "      <th>5</th>\n",
       "      <td>Band of Brothers (2001)</td>\n",
       "      <td>4.210983</td>\n",
       "    </tr>\n",
       "    <tr>\n",
       "      <th>6</th>\n",
       "      <td>Godfather: Part II, The (1974)</td>\n",
       "      <td>4.207637</td>\n",
       "    </tr>\n",
       "    <tr>\n",
       "      <th>7</th>\n",
       "      <td>Touch of Evil (1958)</td>\n",
       "      <td>4.195260</td>\n",
       "    </tr>\n",
       "  </tbody>\n",
       "</table>\n",
       "</div>"
      ],
      "text/plain": [
       "                              title  damp_mean\n",
       "0  Shawshank Redemption, The (1994)   4.356802\n",
       "1             Godfather, The (1972)   4.306888\n",
       "2                 Fight Club (1999)   4.252142\n",
       "3               12 Angry Men (1957)   4.226909\n",
       "4               Pulp Fiction (1994)   4.212007\n",
       "5           Band of Brothers (2001)   4.210983\n",
       "6    Godfather: Part II, The (1974)   4.207637\n",
       "7              Touch of Evil (1958)   4.195260"
      ]
     },
     "execution_count": 19,
     "metadata": {},
     "output_type": "execute_result"
    }
   ],
   "source": [
    "top_movie_damp_mean(8,5)"
   ]
  },
  {
   "cell_type": "markdown",
   "metadata": {
    "nbpresent": {
     "id": "0562c1b0-169b-481a-b755-45388373c773"
    }
   },
   "source": [
    "### 2. Compute best recommendation based on association rule\n",
    "\n",
    "1. Basic Association score for a movie i given for a movie j is:\n",
    "\n",
    "\\begin{equation*}\n",
    "S(i|j) = \\frac{P(i \\cap j)}{P(j)}\n",
    "\\end{equation*}\n",
    "\n",
    "where $P(i \\cap j)$ is count of users who watched both i and j, and $P(j)$ is the count of users who watched j.\n",
    "\n",
    "2. Lift based association score for a movie i given for a movie j is:\n",
    "\n",
    "\\begin{equation*}\n",
    "S(i|j) = \\frac{P(i \\cap j)}{P(j)P(i)}\n",
    "\\end{equation*}\n",
    "\n",
    "where $P(i \\cap j)$ is count of users who watched both i and j, $P(j)$ is the count of users who watched j\n",
    "and $P(i)$ is the count of users who watched movie i."
   ]
  },
  {
   "cell_type": "code",
   "execution_count": 26,
   "metadata": {},
   "outputs": [
    {
     "data": {
      "text/plain": [
       "<matplotlib.axes._subplots.AxesSubplot at 0x123161410>"
      ]
     },
     "execution_count": 26,
     "metadata": {},
     "output_type": "execute_result"
    },
    {
     "data": {
      "image/png": "[encoded data removed]",
      "text/plain": [
       "<matplotlib.figure.Figure at 0x1230f0f10>"
      ]
     },
     "metadata": {},
     "output_type": "display_data"
    }
   ],
   "source": [
    "# Before calculating association scores of each movie with every other movie we want to \n",
    "# keep only relevant ones. We will remove movies which have very small number of users\n",
    "# watching it. This is called keeping min support threshold.\n",
    "\n",
    "rel_movies = ratings.groupby(by='movieId', as_index=False).agg({'userId':'count'})\n",
    "rel_movies['supp'] = (1.0*rel_movies['userId'])/ratings['userId'].nunique()\n",
    "rel_movies = rel_movies.sort_values(by='supp', ascending=False).reset_index(drop=True)\n",
    "f, ax = plt.subplots(figsize = (10,5))\n",
    "sns.distplot(rel_movies['supp'], color='green')"
   ]
  },
  {
   "cell_type": "code",
   "execution_count": 38,
   "metadata": {},
   "outputs": [
    {
     "name": "stdout",
     "output_type": "stream",
     "text": [
      "Relevant number of movies only :  103\n"
     ]
    }
   ],
   "source": [
    "# let's keep min support criteria as 0.4 - \n",
    "# which means we only keep movies which 40% of all population has seen\n",
    "print 'Relevant number of movies only : ', rel_movies[rel_movies['supp'] >= 0.4].shape[0]\n",
    "\n",
    "rel_movies = rel_movies[rel_movies['supp'] >= 0.4]"
   ]
  },
  {
   "cell_type": "code",
   "execution_count": 40,
   "metadata": {},
   "outputs": [
    {
     "data": {
      "text/html": [
       "<div>\n",
       "<style>\n",
       "    .dataframe thead tr:only-child th {\n",
       "        text-align: right;\n",
       "    }\n",
       "\n",
       "    .dataframe thead th {\n",
       "        text-align: left;\n",
       "    }\n",
       "\n",
       "    .dataframe tbody tr th {\n",
       "        vertical-align: top;\n",
       "    }\n",
       "</style>\n",
       "<table border=\"1\" class=\"dataframe\">\n",
       "  <thead>\n",
       "    <tr style=\"text-align: right;\">\n",
       "      <th></th>\n",
       "      <th>movieId</th>\n",
       "      <th>userId</th>\n",
       "      <th>supp</th>\n",
       "    </tr>\n",
       "  </thead>\n",
       "  <tbody>\n",
       "    <tr>\n",
       "      <th>98</th>\n",
       "      <td>1200</td>\n",
       "      <td>349</td>\n",
       "      <td>0.404872</td>\n",
       "    </tr>\n",
       "    <tr>\n",
       "      <th>99</th>\n",
       "      <td>586</td>\n",
       "      <td>349</td>\n",
       "      <td>0.404872</td>\n",
       "    </tr>\n",
       "    <tr>\n",
       "      <th>100</th>\n",
       "      <td>4022</td>\n",
       "      <td>348</td>\n",
       "      <td>0.403712</td>\n",
       "    </tr>\n",
       "    <tr>\n",
       "      <th>101</th>\n",
       "      <td>592</td>\n",
       "      <td>348</td>\n",
       "      <td>0.403712</td>\n",
       "    </tr>\n",
       "    <tr>\n",
       "      <th>102</th>\n",
       "      <td>2918</td>\n",
       "      <td>346</td>\n",
       "      <td>0.401392</td>\n",
       "    </tr>\n",
       "  </tbody>\n",
       "</table>\n",
       "</div>"
      ],
      "text/plain": [
       "     movieId  userId      supp\n",
       "98      1200     349  0.404872\n",
       "99       586     349  0.404872\n",
       "100     4022     348  0.403712\n",
       "101      592     348  0.403712\n",
       "102     2918     346  0.401392"
      ]
     },
     "execution_count": 40,
     "metadata": {},
     "output_type": "execute_result"
    }
   ],
   "source": [
    "rel_movies.tail()"
   ]
  },
  {
   "cell_type": "code",
   "execution_count": 42,
   "metadata": {
    "nbpresent": {
     "id": "12aac750-b8fe-4d2f-a93c-4d458f66d60e"
    }
   },
   "outputs": [
    {
     "name": "stdout",
     "output_type": "stream",
     "text": [
      "Number of rows of score dataset :  257500\n",
      "Time taken : 37.25 mins\n"
     ]
    }
   ],
   "source": [
    "# calculate the association score for all movies (2500) \n",
    "# wrt. every relevant movie (103) and keeps the score in a dataframe \n",
    "\n",
    "st = time.time()\n",
    "\n",
    "base_ass_score = pd.DataFrame(columns=['base_mvid', 'ass_mvid', 'base_cust',\\\n",
    "                                       'ass_cust', 'base_ass_cust', 'base_score', 'lift_score'])\n",
    "\n",
    "for base_mvid in ratings['movieId'].unique():\n",
    "    \n",
    "    # number of cust who watched base movie\n",
    "    mv1 = ratings[ratings['movieId'] == base_mvid]\n",
    "    base_cust = mv1['userId'].nunique()  \n",
    "    \n",
    "    for ass_mvid in rel_movies['movieId'].unique():\n",
    "        \n",
    "        mv2 = ratings[ratings['movieId'] == ass_mvid]\n",
    "        # number of customers who watched ass movie\n",
    "        ass_cust = mv2['userId'].nunique()\n",
    "        # number of customers who watched base and ass movie both\n",
    "        base_ass_cust = mv1.merge(mv2, on='userId', how='inner')['userId'].nunique()\n",
    "\n",
    "        temp = pd.DataFrame(columns=['base_mvid', 'ass_mvid', 'base_cust',\\\n",
    "                                       'ass_cust', 'base_ass_cust', 'base_score', 'lift_score'])\n",
    "        if base_ass_cust > 0:\n",
    "            base_score = (1.0 * base_ass_cust)/base_cust\n",
    "            lift_score = (1.0 * base_ass_cust)/(base_cust * ass_cust)\n",
    "        else:\n",
    "            base_score = 0\n",
    "            lift_score = 0\n",
    "        \n",
    "        temp.loc[0] = [base_mvid, ass_mvid, base_cust, ass_cust, base_ass_cust, base_score, lift_score]\n",
    "        base_ass_score = base_ass_score.append(temp)\n",
    "        \n",
    "        del temp\n",
    "        del mv2\n",
    "    \n",
    "    del mv1\n",
    "    gc.collect()\n",
    "\n",
    "et = time.time()    \n",
    "print 'Number of rows of score dataset : ', base_ass_score.shape[0]\n",
    "print 'Time taken :', round((et - st)/60,2), 'mins'\n",
    "\n",
    "# Time taken for 10 movies vs 10 movies: 1.00676776568 mins\n",
    "# Time taken for 2500 movies vs 103 movies: 37.5 mins"
   ]
  },
  {
   "cell_type": "code",
   "execution_count": 44,
   "metadata": {},
   "outputs": [
    {
     "data": {
      "text/html": [
       "<div>\n",
       "<style>\n",
       "    .dataframe thead tr:only-child th {\n",
       "        text-align: right;\n",
       "    }\n",
       "\n",
       "    .dataframe thead th {\n",
       "        text-align: left;\n",
       "    }\n",
       "\n",
       "    .dataframe tbody tr th {\n",
       "        vertical-align: top;\n",
       "    }\n",
       "</style>\n",
       "<table border=\"1\" class=\"dataframe\">\n",
       "  <thead>\n",
       "    <tr style=\"text-align: right;\">\n",
       "      <th></th>\n",
       "      <th>base_mvid</th>\n",
       "      <th>ass_mvid</th>\n",
       "      <th>base_cust</th>\n",
       "      <th>ass_cust</th>\n",
       "      <th>base_ass_cust</th>\n",
       "      <th>base_score</th>\n",
       "      <th>lift_score</th>\n",
       "    </tr>\n",
       "  </thead>\n",
       "  <tbody>\n",
       "    <tr>\n",
       "      <th>0</th>\n",
       "      <td>1.0</td>\n",
       "      <td>2571.0</td>\n",
       "      <td>496.0</td>\n",
       "      <td>668.0</td>\n",
       "      <td>443.0</td>\n",
       "      <td>0.893145</td>\n",
       "      <td>0.001337</td>\n",
       "    </tr>\n",
       "    <tr>\n",
       "      <th>0</th>\n",
       "      <td>1.0</td>\n",
       "      <td>4993.0</td>\n",
       "      <td>496.0</td>\n",
       "      <td>628.0</td>\n",
       "      <td>422.0</td>\n",
       "      <td>0.850806</td>\n",
       "      <td>0.001355</td>\n",
       "    </tr>\n",
       "    <tr>\n",
       "      <th>0</th>\n",
       "      <td>1.0</td>\n",
       "      <td>356.0</td>\n",
       "      <td>496.0</td>\n",
       "      <td>621.0</td>\n",
       "      <td>434.0</td>\n",
       "      <td>0.875000</td>\n",
       "      <td>0.001409</td>\n",
       "    </tr>\n",
       "    <tr>\n",
       "      <th>0</th>\n",
       "      <td>1.0</td>\n",
       "      <td>296.0</td>\n",
       "      <td>496.0</td>\n",
       "      <td>613.0</td>\n",
       "      <td>403.0</td>\n",
       "      <td>0.812500</td>\n",
       "      <td>0.001325</td>\n",
       "    </tr>\n",
       "    <tr>\n",
       "      <th>0</th>\n",
       "      <td>1.0</td>\n",
       "      <td>5952.0</td>\n",
       "      <td>496.0</td>\n",
       "      <td>597.0</td>\n",
       "      <td>400.0</td>\n",
       "      <td>0.806452</td>\n",
       "      <td>0.001351</td>\n",
       "    </tr>\n",
       "  </tbody>\n",
       "</table>\n",
       "</div>"
      ],
      "text/plain": [
       "   base_mvid  ass_mvid  base_cust  ass_cust  base_ass_cust  base_score  \\\n",
       "0        1.0    2571.0      496.0     668.0          443.0    0.893145   \n",
       "0        1.0    4993.0      496.0     628.0          422.0    0.850806   \n",
       "0        1.0     356.0      496.0     621.0          434.0    0.875000   \n",
       "0        1.0     296.0      496.0     613.0          403.0    0.812500   \n",
       "0        1.0    5952.0      496.0     597.0          400.0    0.806452   \n",
       "\n",
       "   lift_score  \n",
       "0    0.001337  \n",
       "0    0.001355  \n",
       "0    0.001409  \n",
       "0    0.001325  \n",
       "0    0.001351  "
      ]
     },
     "execution_count": 44,
     "metadata": {},
     "output_type": "execute_result"
    }
   ],
   "source": [
    "base_ass_score.head()"
   ]
  },
  {
   "cell_type": "code",
   "execution_count": null,
   "metadata": {},
   "outputs": [],
   "source": [
    "# add associated movies names and details in score dataset\n",
    "basetemp.rename(columns={'ass_mvid' : 'movieId'})\n",
    "base_ass_score = base_ass_score.merge(movies, on='')"
   ]
  },
  {
   "cell_type": "markdown",
   "metadata": {},
   "source": [
    "### 2.1 Function to give top recommendation based on association scores\n",
    "\n",
    "input taken - movie id\n",
    "output - top n associated movie id and names"
   ]
  },
  {
   "cell_type": "code",
   "execution_count": 49,
   "metadata": {
    "nbpresent": {
     "id": "40f24226-1278-4f4d-9073-a64f73329411"
    }
   },
   "outputs": [
    {
     "data": {
      "text/html": [
       "<div>\n",
       "<style>\n",
       "    .dataframe thead tr:only-child th {\n",
       "        text-align: right;\n",
       "    }\n",
       "\n",
       "    .dataframe thead th {\n",
       "        text-align: left;\n",
       "    }\n",
       "\n",
       "    .dataframe tbody tr th {\n",
       "        vertical-align: top;\n",
       "    }\n",
       "</style>\n",
       "<table border=\"1\" class=\"dataframe\">\n",
       "  <thead>\n",
       "    <tr style=\"text-align: right;\">\n",
       "      <th></th>\n",
       "      <th>base_mvid</th>\n",
       "      <th>movieId</th>\n",
       "      <th>title</th>\n",
       "      <th>base_score</th>\n",
       "    </tr>\n",
       "  </thead>\n",
       "  <tbody>\n",
       "    <tr>\n",
       "      <th>0</th>\n",
       "      <td>4.0</td>\n",
       "      <td>4306</td>\n",
       "      <td>Shrek (2001)</td>\n",
       "      <td>1.000000</td>\n",
       "    </tr>\n",
       "    <tr>\n",
       "      <th>1</th>\n",
       "      <td>4.0</td>\n",
       "      <td>2716</td>\n",
       "      <td>Ghostbusters (a.k.a. Ghost Busters) (1984)</td>\n",
       "      <td>0.923077</td>\n",
       "    </tr>\n",
       "    <tr>\n",
       "      <th>2</th>\n",
       "      <td>4.0</td>\n",
       "      <td>1721</td>\n",
       "      <td>Titanic (1997)</td>\n",
       "      <td>0.923077</td>\n",
       "    </tr>\n",
       "    <tr>\n",
       "      <th>3</th>\n",
       "      <td>4.0</td>\n",
       "      <td>356</td>\n",
       "      <td>Forrest Gump (1994)</td>\n",
       "      <td>0.923077</td>\n",
       "    </tr>\n",
       "    <tr>\n",
       "      <th>4</th>\n",
       "      <td>4.0</td>\n",
       "      <td>4226</td>\n",
       "      <td>Memento (2000)</td>\n",
       "      <td>0.923077</td>\n",
       "    </tr>\n",
       "  </tbody>\n",
       "</table>\n",
       "</div>"
      ],
      "text/plain": [
       "   base_mvid movieId                                       title  base_score\n",
       "0        4.0    4306                                Shrek (2001)    1.000000\n",
       "1        4.0    2716  Ghostbusters (a.k.a. Ghost Busters) (1984)    0.923077\n",
       "2        4.0    1721                              Titanic (1997)    0.923077\n",
       "3        4.0     356                         Forrest Gump (1994)    0.923077\n",
       "4        4.0    4226                              Memento (2000)    0.923077"
      ]
     },
     "execution_count": 49,
     "metadata": {},
     "output_type": "execute_result"
    }
   ],
   "source": [
    "def top_base_ass_movie(base_mvid, n):\n",
    "    temp = base_ass_score[base_ass_score['base_mvid'] == base_mvid]\n",
    "    temp = temp.sort_values(by='base_score', ascending=False).reset_index(drop=True)[0:n]\n",
    "    temp = temp.rename(columns={'ass_mvid' : 'movieId'})\n",
    "    temp = temp.merge(movies,on='movieId', how='inner')\n",
    "    return temp[['base_mvid', 'movieId', 'title', 'base_score']]\n",
    "    \n",
    "top_base_ass_movie(4, 5)"
   ]
  },
  {
   "cell_type": "code",
   "execution_count": 50,
   "metadata": {
    "nbpresent": {
     "id": "17cea56c-c01f-4aef-b7e6-b449180bff3a"
    }
   },
   "outputs": [
    {
     "data": {
      "text/html": [
       "<div>\n",
       "<style>\n",
       "    .dataframe thead tr:only-child th {\n",
       "        text-align: right;\n",
       "    }\n",
       "\n",
       "    .dataframe thead th {\n",
       "        text-align: left;\n",
       "    }\n",
       "\n",
       "    .dataframe tbody tr th {\n",
       "        vertical-align: top;\n",
       "    }\n",
       "</style>\n",
       "<table border=\"1\" class=\"dataframe\">\n",
       "  <thead>\n",
       "    <tr style=\"text-align: right;\">\n",
       "      <th></th>\n",
       "      <th>base_mvid</th>\n",
       "      <th>movieId</th>\n",
       "      <th>title</th>\n",
       "      <th>lift_score</th>\n",
       "    </tr>\n",
       "  </thead>\n",
       "  <tbody>\n",
       "    <tr>\n",
       "      <th>0</th>\n",
       "      <td>4.0</td>\n",
       "      <td>1197</td>\n",
       "      <td>Princess Bride, The (1987)</td>\n",
       "      <td>0.002600</td>\n",
       "    </tr>\n",
       "    <tr>\n",
       "      <th>1</th>\n",
       "      <td>4.0</td>\n",
       "      <td>4896</td>\n",
       "      <td>Harry Potter and the Sorcerer's Stone (a.k.a. ...</td>\n",
       "      <td>0.002442</td>\n",
       "    </tr>\n",
       "    <tr>\n",
       "      <th>2</th>\n",
       "      <td>4.0</td>\n",
       "      <td>6711</td>\n",
       "      <td>Lost in Translation (2003)</td>\n",
       "      <td>0.002367</td>\n",
       "    </tr>\n",
       "    <tr>\n",
       "      <th>3</th>\n",
       "      <td>4.0</td>\n",
       "      <td>588</td>\n",
       "      <td>Aladdin (1992)</td>\n",
       "      <td>0.002364</td>\n",
       "    </tr>\n",
       "    <tr>\n",
       "      <th>4</th>\n",
       "      <td>4.0</td>\n",
       "      <td>1704</td>\n",
       "      <td>Good Will Hunting (1997)</td>\n",
       "      <td>0.002337</td>\n",
       "    </tr>\n",
       "  </tbody>\n",
       "</table>\n",
       "</div>"
      ],
      "text/plain": [
       "   base_mvid movieId                                              title  \\\n",
       "0        4.0    1197                         Princess Bride, The (1987)   \n",
       "1        4.0    4896  Harry Potter and the Sorcerer's Stone (a.k.a. ...   \n",
       "2        4.0    6711                         Lost in Translation (2003)   \n",
       "3        4.0     588                                     Aladdin (1992)   \n",
       "4        4.0    1704                           Good Will Hunting (1997)   \n",
       "\n",
       "   lift_score  \n",
       "0    0.002600  \n",
       "1    0.002442  \n",
       "2    0.002367  \n",
       "3    0.002364  \n",
       "4    0.002337  "
      ]
     },
     "execution_count": 50,
     "metadata": {},
     "output_type": "execute_result"
    }
   ],
   "source": [
    "def top_lift_ass_movie(base_mvid, n):\n",
    "    temp = base_ass_score[base_ass_score['base_mvid'] == base_mvid]\n",
    "    temp = temp.sort_values(by='lift_score', ascending=False).reset_index(drop=True)[0:n]\n",
    "    temp = temp.rename(columns={'ass_mvid' : 'movieId'})\n",
    "    temp = temp.merge(movies,on='movieId', how='inner')\n",
    "    return temp[['base_mvid', 'movieId', 'title', 'lift_score']]\n",
    "    \n",
    "top_lift_ass_movie(4, 5)"
   ]
  },
  {
   "cell_type": "code",
   "execution_count": 57,
   "metadata": {
    "nbpresent": {
     "id": "2e8b94cc-417a-4c60-8b8b-c8c8c11752e3"
    }
   },
   "outputs": [
    {
     "name": "stdout",
     "output_type": "stream",
     "text": [
      "Movie id number 4306 :  Shrek (2001)\n"
     ]
    }
   ],
   "source": [
    "print 'Movie id number 4306 : ', movies[movies['movieId'] == 4306]['title'].iloc[0]"
   ]
  },
  {
   "cell_type": "code",
   "execution_count": 58,
   "metadata": {},
   "outputs": [
    {
     "data": {
      "text/html": [
       "<div>\n",
       "<style>\n",
       "    .dataframe thead tr:only-child th {\n",
       "        text-align: right;\n",
       "    }\n",
       "\n",
       "    .dataframe thead th {\n",
       "        text-align: left;\n",
       "    }\n",
       "\n",
       "    .dataframe tbody tr th {\n",
       "        vertical-align: top;\n",
       "    }\n",
       "</style>\n",
       "<table border=\"1\" class=\"dataframe\">\n",
       "  <thead>\n",
       "    <tr style=\"text-align: right;\">\n",
       "      <th></th>\n",
       "      <th>base_mvid</th>\n",
       "      <th>movieId</th>\n",
       "      <th>title</th>\n",
       "      <th>base_score</th>\n",
       "    </tr>\n",
       "  </thead>\n",
       "  <tbody>\n",
       "    <tr>\n",
       "      <th>0</th>\n",
       "      <td>4306.0</td>\n",
       "      <td>4306</td>\n",
       "      <td>Shrek (2001)</td>\n",
       "      <td>1.000000</td>\n",
       "    </tr>\n",
       "    <tr>\n",
       "      <th>1</th>\n",
       "      <td>4306.0</td>\n",
       "      <td>2571</td>\n",
       "      <td>Matrix, The (1999)</td>\n",
       "      <td>0.903288</td>\n",
       "    </tr>\n",
       "    <tr>\n",
       "      <th>2</th>\n",
       "      <td>4306.0</td>\n",
       "      <td>4993</td>\n",
       "      <td>Lord of the Rings: The Fellowship of the Ring,...</td>\n",
       "      <td>0.891683</td>\n",
       "    </tr>\n",
       "  </tbody>\n",
       "</table>\n",
       "</div>"
      ],
      "text/plain": [
       "   base_mvid movieId                                              title  \\\n",
       "0     4306.0    4306                                       Shrek (2001)   \n",
       "1     4306.0    2571                                 Matrix, The (1999)   \n",
       "2     4306.0    4993  Lord of the Rings: The Fellowship of the Ring,...   \n",
       "\n",
       "   base_score  \n",
       "0    1.000000  \n",
       "1    0.903288  \n",
       "2    0.891683  "
      ]
     },
     "execution_count": 58,
     "metadata": {},
     "output_type": "execute_result"
    }
   ],
   "source": [
    "top_base_ass_movie(4306,3)"
   ]
  },
  {
   "cell_type": "code",
   "execution_count": 59,
   "metadata": {
    "nbpresent": {
     "id": "faf632cf-0769-4121-95be-a323d01ca4c6"
    }
   },
   "outputs": [
    {
     "data": {
      "text/html": [
       "<div>\n",
       "<style>\n",
       "    .dataframe thead tr:only-child th {\n",
       "        text-align: right;\n",
       "    }\n",
       "\n",
       "    .dataframe thead th {\n",
       "        text-align: left;\n",
       "    }\n",
       "\n",
       "    .dataframe tbody tr th {\n",
       "        vertical-align: top;\n",
       "    }\n",
       "</style>\n",
       "<table border=\"1\" class=\"dataframe\">\n",
       "  <thead>\n",
       "    <tr style=\"text-align: right;\">\n",
       "      <th></th>\n",
       "      <th>base_mvid</th>\n",
       "      <th>movieId</th>\n",
       "      <th>title</th>\n",
       "      <th>lift_score</th>\n",
       "    </tr>\n",
       "  </thead>\n",
       "  <tbody>\n",
       "    <tr>\n",
       "      <th>0</th>\n",
       "      <td>4306.0</td>\n",
       "      <td>4306</td>\n",
       "      <td>Shrek (2001)</td>\n",
       "      <td>0.001934</td>\n",
       "    </tr>\n",
       "    <tr>\n",
       "      <th>1</th>\n",
       "      <td>4306.0</td>\n",
       "      <td>4886</td>\n",
       "      <td>Monsters, Inc. (2001)</td>\n",
       "      <td>0.001686</td>\n",
       "    </tr>\n",
       "    <tr>\n",
       "      <th>2</th>\n",
       "      <td>4306.0</td>\n",
       "      <td>2683</td>\n",
       "      <td>Austin Powers: The Spy Who Shagged Me (1999)</td>\n",
       "      <td>0.001680</td>\n",
       "    </tr>\n",
       "  </tbody>\n",
       "</table>\n",
       "</div>"
      ],
      "text/plain": [
       "   base_mvid movieId                                         title  lift_score\n",
       "0     4306.0    4306                                  Shrek (2001)    0.001934\n",
       "1     4306.0    4886                         Monsters, Inc. (2001)    0.001686\n",
       "2     4306.0    2683  Austin Powers: The Spy Who Shagged Me (1999)    0.001680"
      ]
     },
     "execution_count": 59,
     "metadata": {},
     "output_type": "execute_result"
    }
   ],
   "source": [
    "top_lift_ass_movie(4306,3)"
   ]
  },
  {
   "cell_type": "code",
   "execution_count": null,
   "metadata": {
    "nbpresent": {
     "id": "a7b7fcec-7994-4b16-a0ff-2dafe4751884"
    }
   },
   "outputs": [],
   "source": []
  },
  {
   "cell_type": "code",
   "execution_count": null,
   "metadata": {
    "nbpresent": {
     "id": "47117f12-0421-42f8-a20c-d64d2dd3041a"
    }
   },
   "outputs": [],
   "source": []
  }
 ],
 "metadata": {
  "kernelspec": {
   "display_name": "Python 2",
   "language": "python",
   "name": "python2"
  },
  "language_info": {
   "codemirror_mode": {
    "name": "ipython",
    "version": 2
   },
   "file_extension": ".py",
   "mimetype": "text/x-python",
   "name": "python",
   "nbconvert_exporter": "python",
   "pygments_lexer": "ipython2",
   "version": "2.7.15"
  }
 },
 "nbformat": 4,
 "nbformat_minor": 2
}
